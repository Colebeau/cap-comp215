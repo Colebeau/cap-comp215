{
  "nbformat": 4,
  "nbformat_minor": 0,
  "metadata": {
    "colab": {
      "provenance": [],
      "authorship_tag": "ABX9TyPK8vfyPCLMPeQTaQWOfqn1",
      "include_colab_link": true
    },
    "kernelspec": {
      "name": "python3",
      "display_name": "Python 3"
    },
    "language_info": {
      "name": "python"
    }
  },
  "cells": [
    {
      "cell_type": "markdown",
      "metadata": {
        "id": "view-in-github",
        "colab_type": "text"
      },
      "source": [
        "<a href=\"https://colab.research.google.com/github/Colebeau/cap-comp215/blob/main/Untitled2.ipynb\" target=\"_parent\"><img src=\"https://colab.research.google.com/assets/colab-badge.svg\" alt=\"Open In Colab\"/></a>"
      ]
    },
    {
      "cell_type": "code",
      "execution_count": 13,
      "metadata": {
        "id": "7OxwbZs0rowM"
      },
      "outputs": [],
      "source": [
        "%matplotlib inline\n",
        "\n",
        "import time\n",
        "from pprint import pprint\n",
        "\n",
        "import matplotlib\n",
        "import matplotlib.pyplot as plt\n",
        "import numpy as np\n",
        "from matplotlib import animation\n",
        "from scipy.signal import correlate2d\n",
        "\n",
        "# Configure matplotlib's animation library to work in the browser.\n",
        "matplotlib.rc('animation', html='jshtml')"
      ]
    },
    {
      "cell_type": "code",
      "source": [
        "class Animation2D:\n",
        "    \"\"\"\n",
        "      Animates any 2D model with a step() method and a draw() method, using matplotlib\n",
        "      model.step() should take no parameters - just step the model forward one step.\n",
        "      model.draw() should take 2 parameters, the matpltolib axes to draw on and an integer step number\n",
        "\n",
        "      See https://www.allendowney.com/blog/2019/07/25/matplotlib-animation-in-jupyter/\n",
        "          for a discussion of the pros and cons of various animation techniques in jupyter notebooks\n",
        "    \"\"\"\n",
        "\n",
        "    def __init__(self, model, frames=50, steps_per_frame=1, figsize=(8, 8)):\n",
        "        \"\"\"\n",
        "        :param model: the simulation object to animate, with step() and draw(axes, step) methods\n",
        "        :param frames: number of animation frames to generate\n",
        "        \"\"\"\n",
        "        self.model = model\n",
        "        self.frames = frames\n",
        "        self.steps_per_frame = steps_per_frame\n",
        "        self.fig, self.ax = plt.subplots(figsize=figsize)\n",
        "\n",
        "    def animation_step(self, step):\n",
        "        \"\"\" Step the model forward and draw the plot \"\"\"\n",
        "        if step > 0:\n",
        "            for _ in range(self.steps_per_frame):\n",
        "                self.model.step()\n",
        "        self.model.draw(self.ax, step=step * self.steps_per_frame)\n",
        "\n",
        "    def show(self):\n",
        "        \"\"\" return the matplotlib animation object, ready for display \"\"\"\n",
        "        anim = animation.FuncAnimation(self.fig, self.animation_step, frames=self.frames)\n",
        "        plt.close()  # this ensures the last frame is not shown as a separate plot\n",
        "        return anim\n",
        "\n",
        "    def animate(self, interval=None):\n",
        "        \"\"\" Animate the model simulation directly in the notebook display block \"\"\"\n",
        "        from IPython.display import clear_output\n",
        "        try:\n",
        "            for i in range(self.frames):\n",
        "                clear_output(wait=True)  # clear the IPython display\n",
        "                self.ax.clear()  # clear old image from the axes (fixes a performance issue)\n",
        "                plt.figure(self.fig)  # add the figure back to pyplot ** sigh **\n",
        "                self.animation_step(i)\n",
        "                plt.show()  # show the current animation frame (pyplot then closes and throws away figure ** sigh **)\n",
        "                if interval:\n",
        "                    time.sleep(interval)\n",
        "        except KeyboardInterrupt:\n",
        "            pass"
      ],
      "metadata": {
        "id": "zMvhaiVDrs8V"
      },
      "execution_count": 14,
      "outputs": []
    },
    {
      "cell_type": "code",
      "source": [
        "import numpy as np\n",
        "import matplotlib\n",
        "\n",
        "class DiseaseSpread:\n",
        "    SUSCEPTIBLE = 0\n",
        "    INFECTED = 1\n",
        "    RECOVERED = 2\n",
        "    VACCINATED = 3\n",
        "    INFECTED2 = 4\n",
        "\n",
        "    cmap = [(0.8, 0.8, 0.8), (1, 0, 0), (0, 0, 1), (0, 1, 0),(1, 0.5, 0)]  # gray, red, blue, green, brown\n",
        "    disease_colour_map = matplotlib.colors.ListedColormap(cmap)\n",
        "\n",
        "    kernel = np.array([[0, 1, 0],\n",
        "                       [1, 0, 1],\n",
        "                       [0, 1, 0]])\n",
        "\n",
        "    def __init__(self, n, infection_rate=0.1, recovery_rate=0.01, initial_infected_rate=0.01,\n",
        "                 initial_vaccinated_rate=0.1,\n",
        "                 neighbor_vaccine_boost=0.05, infection_rate2=0.2, recovery_rate2=0.02):\n",
        "        self.n = n\n",
        "        self.step_count = 0\n",
        "        self.infection_rate = infection_rate\n",
        "        self.infection_rate2 = infection_rate2\n",
        "        self.recovery_rate = recovery_rate\n",
        "        self.recovery_rate2 = recovery_rate2\n",
        "        self.neighbor_vaccine_boost = neighbor_vaccine_boost\n",
        "        self.vaccine_effectiveness = 0.9\n",
        "        self.state = np.random.choice([self.SUSCEPTIBLE, self.INFECTED, self.VACCINATED], (n, n),\n",
        "                                      p=[1-initial_infected_rate-initial_vaccinated_rate,\n",
        "                                         initial_infected_rate,\n",
        "                                         initial_vaccinated_rate])\n",
        "\n",
        "    def step(self):\n",
        "        new_state = self.state.copy()\n",
        "        infected = (self.state == self.INFECTED)\n",
        "        infected2 = (self.state == self.INFECTED2)\n",
        "        susceptible = (self.state == self.SUSCEPTIBLE)\n",
        "        vaccinated = (self.state == self.VACCINATED)\n",
        "\n",
        "\n",
        "        if self.step_count == 50:\n",
        "            self.introduce_second_strain()\n",
        "\n",
        "        # Rule 1: Infection Spread\n",
        "        infection_risk = correlate2d(infected, self.kernel, mode='same', boundary='wrap') > 0\n",
        "        infections = np.random.rand(self.n, self.n) < self.infection_rate\n",
        "        new_state[susceptible & infection_risk & infections] = self.INFECTED\n",
        "\n",
        "        # Rule 1b: Infection Spread for Second Strain (ignores vaccination)\n",
        "        infection_risk2 = correlate2d(infected2, self.kernel, mode='same', boundary='wrap') > 0\n",
        "        infections2 = np.random.rand(self.n, self.n) < self.infection_rate2\n",
        "        new_state[(self.state == self.SUSCEPTIBLE) & infection_risk2 & infections2] = self.INFECTED2\n",
        "\n",
        "        # Reduced infection risk for vaccinated individuals\n",
        "        vaccine_infections = np.random.rand(self.n, self.n) < (self.infection_rate * (1 - self.vaccine_effectiveness))\n",
        "        new_state[vaccinated & infection_risk & vaccine_infections] = self.INFECTED\n",
        "\n",
        "\n",
        "\n",
        "        # Higher chance of vaccination if neighbours infected\n",
        "        infected_neighbors = correlate2d(infected, self.kernel, mode='same', boundary='wrap') > 0\n",
        "        enhanced_vaccine_chance = np.random.rand(self.n, self.n) < self.neighbor_vaccine_boost\n",
        "        new_state[susceptible & infected_neighbors & enhanced_vaccine_chance] = self.VACCINATED\n",
        "\n",
        "        # Rule 2: Recovery\n",
        "        recovery_chance = np.random.rand(self.n, self.n) < self.recovery_rate\n",
        "        recovery_chance2 = np.random.rand(self.n, self.n) < self.recovery_rate2\n",
        "        new_state[infected & recovery_chance] = self.RECOVERED\n",
        "\n",
        "        self.state = new_state\n",
        "        self.step_count += 1\n",
        "\n",
        "    def introduce_second_strain(self):\n",
        "        susceptible = (self.state == self.SUSCEPTIBLE)\n",
        "        new_second_strain = (np.random.rand(self.n, self.n) < 0.05) & susceptible\n",
        "        self.state[new_second_strain] = self.INFECTED2\n",
        "\n",
        "    def draw(self, axes=None, step=''):\n",
        "        axes = axes or plt.gca()\n",
        "        total_cells = self.state.size\n",
        "        pct_infected = np.sum(self.state == self.INFECTED) / total_cells\n",
        "        pct_vaccinated = np.sum(self.state == self.VACCINATED) / total_cells\n",
        "\n",
        "        # Update the plot title with these percentages\n",
        "        title = f'Time: {step} - Infected: {pct_infected:.2%}, Vaccinated: {pct_vaccinated:.2%}'\n",
        "        axes.imshow(self.state, cmap=self.disease_colour_map, vmin=0, vmax=len(self.cmap)-1)\n",
        "        axes.set_title(title)\n",
        "        axes.axis('off')\n",
        "\n",
        "\n"
      ],
      "metadata": {
        "id": "xfeC2-pPuh7v"
      },
      "execution_count": 53,
      "outputs": []
    },
    {
      "cell_type": "code",
      "source": [
        "\n",
        "disease = DiseaseSpread(n=50, infection_rate=0.1, recovery_rate=0.01, initial_infected_rate=0.05, initial_vaccinated_rate=0.5, infection_rate2=0.2, recovery_rate2=0.02)\n",
        "\n",
        "anim = Animation2D(disease, frames=150)\n",
        "\n",
        "anim.animate(interval=0.01)\n"
      ],
      "metadata": {
        "colab": {
          "base_uri": "https://localhost:8080/",
          "height": 675
        },
        "id": "zU51Zxm3wFDk",
        "outputId": "8607a43b-5ce9-418c-b2c6-cd9dc4f95554"
      },
      "execution_count": 55,
      "outputs": [
        {
          "output_type": "display_data",
          "data": {
            "text/plain": [
              "<Figure size 800x800 with 1 Axes>"
            ],
            "image/png": "[encoded data removed]"
          },
          "metadata": {}
        }
      ]
    }
  ]
}